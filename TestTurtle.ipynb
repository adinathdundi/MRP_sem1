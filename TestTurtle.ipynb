{
 "cells": [
  {
   "cell_type": "code",
   "execution_count": 1,
   "id": "07663308",
   "metadata": {},
   "outputs": [
    {
     "name": "stdout",
     "output_type": "stream",
     "text": [
      "['query_graph.py', 'turtle_converter.py', 'TestTurtle.ipynb', 'README.md', '.git', 'data', 'src']\n"
     ]
    }
   ],
   "source": [
    "import os\n",
    "\n",
    "# List all files in the current directory\n",
    "files = os.listdir('.')\n",
    "print(files)"
   ]
  },
  {
   "cell_type": "code",
   "execution_count": 7,
   "id": "3669183e",
   "metadata": {},
   "outputs": [
    {
     "name": "stdout",
     "output_type": "stream",
     "text": [
      "Graph has 44892 triples.\n"
     ]
    }
   ],
   "source": [
    "from rdflib import Graph\n",
    "\n",
    "# Load the Turtle file into an rdflib graph\n",
    "graph = Graph()\n",
    "graph.parse(\"data/sphn100.ttl\", format=\"turtle\")\n",
    "\n",
    "\n",
    "print(f\"Graph has {len(graph)} triples.\")"
   ]
  },
  {
   "cell_type": "code",
   "execution_count": null,
   "id": "fee4767a",
   "metadata": {},
   "outputs": [
    {
     "name": "stdout",
     "output_type": "stream",
     "text": [
      "Transformation complete. Saved to data/sphn100.ttl.\n"
     ]
    }
   ],
   "source": [
    "from rdflib import Graph, Namespace, URIRef, Literal\n",
    "from rdflib.namespace import RDF\n",
    "\n",
    "# Define a namespace for your data\n",
    "SPHN = Namespace(\"http://example.org/sphn#\")\n",
    "\n",
    "# File paths\n",
    "input_file_path = \"data/sphn100.txt\"\n",
    "output_file_path = \"data/sphn100.ttl\"\n",
    "\n",
    "# Create a new graph\n",
    "new_graph = Graph()\n",
    "\n",
    "# Read the triples from the text file\n",
    "with open(input_file_path, \"r\") as file:\n",
    "    for line in file:\n",
    "        subject, predicate, obj = line.strip().split(\",\")\n",
    "        \n",
    "        # Add the triple to the graph\n",
    "        new_graph.add((\n",
    "            URIRef(f\"http://example.org/{subject.strip()}\"),\n",
    "            URIRef(f\"http://example.org/{predicate.strip()}\") if predicate != \"a\" else RDF.type,\n",
    "            URIRef(SPHN[obj.strip()]) if obj.startswith(\"sphn#\") else Literal(obj.strip())\n",
    "        ))\n",
    "\n",
    "# Serialize the graph to Turtle format and save it\n",
    "new_graph.serialize(destination=output_file_path, format=\"turtle\")\n",
    "print(f\"Transformation complete. Saved to {output_file_path}.\")"
   ]
  }
 ],
 "metadata": {
  "kernelspec": {
   "display_name": "base",
   "language": "python",
   "name": "python3"
  },
  "language_info": {
   "codemirror_mode": {
    "name": "ipython",
    "version": 3
   },
   "file_extension": ".py",
   "mimetype": "text/x-python",
   "name": "python",
   "nbconvert_exporter": "python",
   "pygments_lexer": "ipython3",
   "version": "3.12.4"
  }
 },
 "nbformat": 4,
 "nbformat_minor": 5
}
